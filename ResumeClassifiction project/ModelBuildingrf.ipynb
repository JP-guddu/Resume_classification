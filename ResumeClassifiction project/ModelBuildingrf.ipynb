{
 "cells": [
  {
   "cell_type": "markdown",
   "id": "07aa04f0",
   "metadata": {},
   "source": [
    "# Model Building"
   ]
  },
  {
   "cell_type": "code",
   "execution_count": 1,
   "id": "11f186dd",
   "metadata": {},
   "outputs": [],
   "source": [
    "import pandas as pd\n",
    "from sklearn.feature_extraction.text import CountVectorizer\n",
    "import re\n",
    "import spacy\n",
    "nlp = spacy.load(\"en_core_web_lg\")\n",
    "from sklearn.preprocessing import LabelEncoder\n",
    "from sklearn.model_selection import train_test_split\n",
    "from sklearn.feature_extraction.text import TfidfVectorizer\n",
    "from sklearn.metrics import accuracy_score\n",
    "from sklearn.linear_model import LogisticRegression\n",
    "from sklearn.metrics import classification_report,confusion_matrix\n",
    "from sklearn.svm import SVC\n",
    "from sklearn.tree import DecisionTreeClassifier\n",
    "from sklearn.ensemble import RandomForestClassifier\n",
    "from sklearn.neighbors import KNeighborsClassifier\n",
    "from sklearn.ensemble import AdaBoostClassifier, GradientBoostingClassifier\n",
    "from sklearn.model_selection import GridSearchCV\n",
    "from sklearn.naive_bayes import MultinomialNB\n",
    "from xgboost import XGBClassifier\n",
    "from sklearn.metrics import f1_score, confusion_matrix, accuracy_score, classification_report\n",
    "from sklearn.metrics import f1_score,precision_score,confusion_matrix,recall_score,accuracy_score"
   ]
  },
  {
   "cell_type": "code",
   "execution_count": 2,
   "id": "c4ea884b",
   "metadata": {},
   "outputs": [],
   "source": [
    "df = pd.read_csv(\"final.csv\")"
   ]
  },
  {
   "cell_type": "code",
   "execution_count": 3,
   "id": "11b1aaaf",
   "metadata": {},
   "outputs": [],
   "source": [
    "def cleanResume(resumeText):\n",
    "    if pd.isnull(resumeText) or not isinstance(resumeText, str):\n",
    "        return ''\n",
    "    #resumeText = re.sub(r'\\d+', '', resumeText)\n",
    "    resumeText = re.sub('•', '',resumeText)\n",
    "    resumeText = re.sub(r'\\s+', ' ', resumeText).strip()\n",
    "    resumeText = re.sub('http\\S+\\s*', ' ', resumeText)  # remove URLs\n",
    "    resumeText = re.sub('RT|cc', ' ', resumeText)  # remove RT and cc\n",
    "    resumeText = re.sub('#\\S+', '', resumeText)  # remove hashtags\n",
    "    resumeText = re.sub('@\\S+', '  ', resumeText)  # remove mentions\n",
    "    resumeText = re.sub('[%s]' % re.escape(\"\"\"!\"#$%&'()*+,-./:;<=>?@[\\]^_`{|}~\"\"\"), ' ', resumeText)  # remove punctuations\n",
    "    resumeText = re.sub(r'[^\\x00-\\x7f]',r' ', resumeText) \n",
    "    resumeText = re.sub('\\s+', ' ', resumeText)  # remove extra whitespace\n",
    "    return resumeText\n",
    "    \n",
    "df['Text'] = df.Text.apply(lambda x: cleanResume(x))\n",
    "#df['experience'] = df.experience.apply(lambda x: cleanResume(x))\n",
    "#df[\"skills\"] = df.skills.apply(lambda x:cleanResume(x))"
   ]
  },
  {
   "cell_type": "code",
   "execution_count": 4,
   "id": "4d0b36aa",
   "metadata": {},
   "outputs": [],
   "source": [
    "def cleanspacy(text):\n",
    "    doc = nlp(text)\n",
    "    \n",
    "    filtered_tokens = []\n",
    "    for token in doc:\n",
    "        if token.is_stop or token.is_punct:\n",
    "            continue\n",
    "        filtered_tokens.append(token.lemma_)\n",
    "        \n",
    "    return \" \".join(filtered_tokens)"
   ]
  },
  {
   "cell_type": "code",
   "execution_count": 6,
   "id": "88a1a85f",
   "metadata": {},
   "outputs": [],
   "source": [
    "df[\"cleantext\"] = df.Text.apply(lambda x:cleanspacy(x))"
   ]
  },
  {
   "cell_type": "code",
   "execution_count": 7,
   "id": "0dc2182f",
   "metadata": {},
   "outputs": [],
   "source": [
    "df1 = df[[\"cleantext\",\"Resume\"]]"
   ]
  },
  {
   "cell_type": "code",
   "execution_count": 8,
   "id": "c4b6c0a5",
   "metadata": {},
   "outputs": [
    {
     "data": {
      "text/html": [
       "<div>\n",
       "<style scoped>\n",
       "    .dataframe tbody tr th:only-of-type {\n",
       "        vertical-align: middle;\n",
       "    }\n",
       "\n",
       "    .dataframe tbody tr th {\n",
       "        vertical-align: top;\n",
       "    }\n",
       "\n",
       "    .dataframe thead th {\n",
       "        text-align: right;\n",
       "    }\n",
       "</style>\n",
       "<table border=\"1\" class=\"dataframe\">\n",
       "  <thead>\n",
       "    <tr style=\"text-align: right;\">\n",
       "      <th></th>\n",
       "      <th>cleantext</th>\n",
       "      <th>Resume</th>\n",
       "    </tr>\n",
       "  </thead>\n",
       "  <tbody>\n",
       "    <tr>\n",
       "      <th>0</th>\n",
       "      <td>Anubhav Kumar Singh work globally competitive ...</td>\n",
       "      <td>peoplesoft</td>\n",
       "    </tr>\n",
       "    <tr>\n",
       "      <th>1</th>\n",
       "      <td>profile summary 7 year experience implement up...</td>\n",
       "      <td>peoplesoft</td>\n",
       "    </tr>\n",
       "    <tr>\n",
       "      <th>2</th>\n",
       "      <td>PeopleSoft Database Administrator Gangareddy p...</td>\n",
       "      <td>peoplesoft</td>\n",
       "    </tr>\n",
       "    <tr>\n",
       "      <th>3</th>\n",
       "      <td>Murali experience summary 6 year experience wo...</td>\n",
       "      <td>peoplesoft</td>\n",
       "    </tr>\n",
       "    <tr>\n",
       "      <th>4</th>\n",
       "      <td>Priyanka Ramadoss 61 46 MountPleasant Coonoor ...</td>\n",
       "      <td>peoplesoft</td>\n",
       "    </tr>\n",
       "    <tr>\n",
       "      <th>...</th>\n",
       "      <td>...</td>\n",
       "      <td>...</td>\n",
       "    </tr>\n",
       "    <tr>\n",
       "      <th>74</th>\n",
       "      <td>Workday Integration consultant Sri Krishna S P...</td>\n",
       "      <td>workday</td>\n",
       "    </tr>\n",
       "    <tr>\n",
       "      <th>75</th>\n",
       "      <td>seek suitable position Workday HCM Techno func...</td>\n",
       "      <td>workday</td>\n",
       "    </tr>\n",
       "    <tr>\n",
       "      <th>76</th>\n",
       "      <td>WORKDAY HCM FCM Kumar S S role workday consult...</td>\n",
       "      <td>workday</td>\n",
       "    </tr>\n",
       "    <tr>\n",
       "      <th>77</th>\n",
       "      <td>Venkateswarlu B workday consultant have 5 3 ye...</td>\n",
       "      <td>workday</td>\n",
       "    </tr>\n",
       "    <tr>\n",
       "      <th>78</th>\n",
       "      <td>Vinay kumar v Workday Functional Consultant EX...</td>\n",
       "      <td>workday</td>\n",
       "    </tr>\n",
       "  </tbody>\n",
       "</table>\n",
       "<p>79 rows × 2 columns</p>\n",
       "</div>"
      ],
      "text/plain": [
       "                                            cleantext      Resume\n",
       "0   Anubhav Kumar Singh work globally competitive ...  peoplesoft\n",
       "1   profile summary 7 year experience implement up...  peoplesoft\n",
       "2   PeopleSoft Database Administrator Gangareddy p...  peoplesoft\n",
       "3   Murali experience summary 6 year experience wo...  peoplesoft\n",
       "4   Priyanka Ramadoss 61 46 MountPleasant Coonoor ...  peoplesoft\n",
       "..                                                ...         ...\n",
       "74  Workday Integration consultant Sri Krishna S P...     workday\n",
       "75  seek suitable position Workday HCM Techno func...     workday\n",
       "76  WORKDAY HCM FCM Kumar S S role workday consult...     workday\n",
       "77  Venkateswarlu B workday consultant have 5 3 ye...     workday\n",
       "78  Vinay kumar v Workday Functional Consultant EX...     workday\n",
       "\n",
       "[79 rows x 2 columns]"
      ]
     },
     "execution_count": 8,
     "metadata": {},
     "output_type": "execute_result"
    }
   ],
   "source": [
    "df1"
   ]
  },
  {
   "cell_type": "code",
   "execution_count": 9,
   "id": "6fae50fe",
   "metadata": {},
   "outputs": [],
   "source": [
    "text4 = df1[\"cleantext\"][50]"
   ]
  },
  {
   "cell_type": "markdown",
   "id": "0cb36ba9",
   "metadata": {},
   "source": [
    "# Label Encoding"
   ]
  },
  {
   "cell_type": "code",
   "execution_count": 10,
   "id": "ad8b98b2",
   "metadata": {},
   "outputs": [
    {
     "name": "stderr",
     "output_type": "stream",
     "text": [
      "C:\\Users\\abc\\AppData\\Local\\Temp\\ipykernel_10176\\451299911.py:2: SettingWithCopyWarning: \n",
      "A value is trying to be set on a copy of a slice from a DataFrame.\n",
      "Try using .loc[row_indexer,col_indexer] = value instead\n",
      "\n",
      "See the caveats in the documentation: https://pandas.pydata.org/pandas-docs/stable/user_guide/indexing.html#returning-a-view-versus-a-copy\n",
      "  df1[\"Resume\"] = lb.fit_transform(df1[\"Resume\"])\n"
     ]
    },
    {
     "data": {
      "text/html": [
       "<div>\n",
       "<style scoped>\n",
       "    .dataframe tbody tr th:only-of-type {\n",
       "        vertical-align: middle;\n",
       "    }\n",
       "\n",
       "    .dataframe tbody tr th {\n",
       "        vertical-align: top;\n",
       "    }\n",
       "\n",
       "    .dataframe thead th {\n",
       "        text-align: right;\n",
       "    }\n",
       "</style>\n",
       "<table border=\"1\" class=\"dataframe\">\n",
       "  <thead>\n",
       "    <tr style=\"text-align: right;\">\n",
       "      <th></th>\n",
       "      <th>cleantext</th>\n",
       "      <th>Resume</th>\n",
       "    </tr>\n",
       "  </thead>\n",
       "  <tbody>\n",
       "    <tr>\n",
       "      <th>0</th>\n",
       "      <td>Anubhav Kumar Singh work globally competitive ...</td>\n",
       "      <td>0</td>\n",
       "    </tr>\n",
       "    <tr>\n",
       "      <th>1</th>\n",
       "      <td>profile summary 7 year experience implement up...</td>\n",
       "      <td>0</td>\n",
       "    </tr>\n",
       "    <tr>\n",
       "      <th>2</th>\n",
       "      <td>PeopleSoft Database Administrator Gangareddy p...</td>\n",
       "      <td>0</td>\n",
       "    </tr>\n",
       "    <tr>\n",
       "      <th>3</th>\n",
       "      <td>Murali experience summary 6 year experience wo...</td>\n",
       "      <td>0</td>\n",
       "    </tr>\n",
       "    <tr>\n",
       "      <th>4</th>\n",
       "      <td>Priyanka Ramadoss 61 46 MountPleasant Coonoor ...</td>\n",
       "      <td>0</td>\n",
       "    </tr>\n",
       "    <tr>\n",
       "      <th>...</th>\n",
       "      <td>...</td>\n",
       "      <td>...</td>\n",
       "    </tr>\n",
       "    <tr>\n",
       "      <th>74</th>\n",
       "      <td>Workday Integration consultant Sri Krishna S P...</td>\n",
       "      <td>3</td>\n",
       "    </tr>\n",
       "    <tr>\n",
       "      <th>75</th>\n",
       "      <td>seek suitable position Workday HCM Techno func...</td>\n",
       "      <td>3</td>\n",
       "    </tr>\n",
       "    <tr>\n",
       "      <th>76</th>\n",
       "      <td>WORKDAY HCM FCM Kumar S S role workday consult...</td>\n",
       "      <td>3</td>\n",
       "    </tr>\n",
       "    <tr>\n",
       "      <th>77</th>\n",
       "      <td>Venkateswarlu B workday consultant have 5 3 ye...</td>\n",
       "      <td>3</td>\n",
       "    </tr>\n",
       "    <tr>\n",
       "      <th>78</th>\n",
       "      <td>Vinay kumar v Workday Functional Consultant EX...</td>\n",
       "      <td>3</td>\n",
       "    </tr>\n",
       "  </tbody>\n",
       "</table>\n",
       "<p>79 rows × 2 columns</p>\n",
       "</div>"
      ],
      "text/plain": [
       "                                            cleantext  Resume\n",
       "0   Anubhav Kumar Singh work globally competitive ...       0\n",
       "1   profile summary 7 year experience implement up...       0\n",
       "2   PeopleSoft Database Administrator Gangareddy p...       0\n",
       "3   Murali experience summary 6 year experience wo...       0\n",
       "4   Priyanka Ramadoss 61 46 MountPleasant Coonoor ...       0\n",
       "..                                                ...     ...\n",
       "74  Workday Integration consultant Sri Krishna S P...       3\n",
       "75  seek suitable position Workday HCM Techno func...       3\n",
       "76  WORKDAY HCM FCM Kumar S S role workday consult...       3\n",
       "77  Venkateswarlu B workday consultant have 5 3 ye...       3\n",
       "78  Vinay kumar v Workday Functional Consultant EX...       3\n",
       "\n",
       "[79 rows x 2 columns]"
      ]
     },
     "execution_count": 10,
     "metadata": {},
     "output_type": "execute_result"
    }
   ],
   "source": [
    "lb = LabelEncoder()\n",
    "df1[\"Resume\"] = lb.fit_transform(df1[\"Resume\"])\n",
    "df1"
   ]
  },
  {
   "cell_type": "code",
   "execution_count": 11,
   "id": "b53ace32",
   "metadata": {},
   "outputs": [],
   "source": [
    "text = df1[\"cleantext\"]\n",
    "Target = df1[\"Resume\"].values"
   ]
  },
  {
   "cell_type": "code",
   "execution_count": 12,
   "id": "bcf32684",
   "metadata": {},
   "outputs": [],
   "source": [
    "word_vectorizer = TfidfVectorizer()\n",
    "#word_vectorizer.fit(text)\n",
    "#WordFeatures= word_vectorizer.transform(text)\n",
    "X = word_vectorizer.fit_transform(df1[\"cleantext\"])"
   ]
  },
  {
   "cell_type": "code",
   "execution_count": 52,
   "id": "18a289b6",
   "metadata": {},
   "outputs": [
    {
     "data": {
      "text/plain": [
       "array([0, 0, 0, 0, 0, 0, 0, 0, 0, 0, 0, 0, 0, 0, 0, 0, 0, 0, 0, 0, 1, 1,\n",
       "       1, 1, 1, 1, 1, 1, 1, 1, 1, 1, 1, 1, 1, 1, 1, 1, 1, 1, 1, 1, 1, 1,\n",
       "       2, 2, 2, 2, 2, 2, 2, 2, 2, 2, 2, 2, 2, 2, 3, 3, 3, 3, 3, 3, 3, 3,\n",
       "       3, 3, 3, 3, 3, 3, 3, 3, 3, 3, 3, 3, 3])"
      ]
     },
     "execution_count": 52,
     "metadata": {},
     "output_type": "execute_result"
    }
   ],
   "source": [
    "Target"
   ]
  },
  {
   "cell_type": "code",
   "execution_count": 14,
   "id": "15378261",
   "metadata": {},
   "outputs": [],
   "source": [
    "x_train,x_test,y_train,y_test= train_test_split(X, Target,test_size=0.3, random_state=42)"
   ]
  },
  {
   "cell_type": "code",
   "execution_count": 15,
   "id": "630d7d42",
   "metadata": {},
   "outputs": [
    {
     "name": "stdout",
     "output_type": "stream",
     "text": [
      "(55, 3757)\n",
      "(24, 3757)\n"
     ]
    }
   ],
   "source": [
    "print(x_train.shape)\n",
    "print(x_test.shape)"
   ]
  },
  {
   "cell_type": "markdown",
   "id": "2eed7095",
   "metadata": {},
   "source": [
    "# 1.Logistic Regression"
   ]
  },
  {
   "cell_type": "code",
   "execution_count": 16,
   "id": "bd39c338",
   "metadata": {},
   "outputs": [
    {
     "name": "stdout",
     "output_type": "stream",
     "text": [
      "Accuracy og Model:  0.9583\n",
      "-------------------------------------------\n",
      "Classification report: \n",
      "               precision    recall  f1-score   support\n",
      "\n",
      "           0       1.00      0.86      0.92         7\n",
      "           1       0.88      1.00      0.93         7\n",
      "           2       1.00      1.00      1.00         4\n",
      "           3       1.00      1.00      1.00         6\n",
      "\n",
      "    accuracy                           0.96        24\n",
      "   macro avg       0.97      0.96      0.96        24\n",
      "weighted avg       0.96      0.96      0.96        24\n",
      "\n",
      "-------------------------------------------\n",
      "confusion matrix: \n",
      " [[6 1 0 0]\n",
      " [0 7 0 0]\n",
      " [0 0 4 0]\n",
      " [0 0 0 6]]\n"
     ]
    }
   ],
   "source": [
    "lg = LogisticRegression()\n",
    "lg.fit(x_train,y_train)\n",
    "y_pred_lg = lg.predict(x_test)\n",
    "accuracy_lg =round(accuracy_score(y_test,y_pred_lg),4)\n",
    "print(\"Accuracy og Model: \",accuracy_lg)\n",
    "print(\"-------------------------------------------\")\n",
    "print(\"Classification report: \\n\",classification_report(y_test,y_pred_lg))\n",
    "print(\"-------------------------------------------\")\n",
    "print(\"confusion matrix: \\n\",confusion_matrix(y_test,y_pred_lg))"
   ]
  },
  {
   "cell_type": "code",
   "execution_count": 17,
   "id": "45a08bea",
   "metadata": {},
   "outputs": [],
   "source": [
    "precision_lg = round(precision_score(y_test,y_pred_lg,average = 'macro'),4)\n",
    "recall_lg = round(recall_score(y_test,y_pred_lg, average = 'macro'),4)\n",
    "f1_lg = round(f1_score(y_test,y_pred_lg, average = 'macro'),4)"
   ]
  },
  {
   "cell_type": "markdown",
   "id": "c5ffc1e5",
   "metadata": {},
   "source": [
    "# 2. k-nearest neighbors"
   ]
  },
  {
   "cell_type": "code",
   "execution_count": 18,
   "id": "e6d8838f",
   "metadata": {},
   "outputs": [
    {
     "name": "stdout",
     "output_type": "stream",
     "text": [
      "Accuracy og Model:  0.9583\n",
      "-------------------------------------------\n",
      "Classification report: \n",
      "               precision    recall  f1-score   support\n",
      "\n",
      "           0       1.00      0.86      0.92         7\n",
      "           1       1.00      1.00      1.00         7\n",
      "           2       1.00      1.00      1.00         4\n",
      "           3       0.86      1.00      0.92         6\n",
      "\n",
      "    accuracy                           0.96        24\n",
      "   macro avg       0.96      0.96      0.96        24\n",
      "weighted avg       0.96      0.96      0.96        24\n",
      "\n",
      "-------------------------------------------\n",
      "confusion matrix: \n",
      " [[6 0 0 1]\n",
      " [0 7 0 0]\n",
      " [0 0 4 0]\n",
      " [0 0 0 6]]\n"
     ]
    }
   ],
   "source": [
    "knn = KNeighborsClassifier()\n",
    "knn.fit(x_train,y_train)\n",
    "y_pred_knn = knn.predict(x_test)\n",
    "accuracy_knn =round(accuracy_score(y_test,y_pred_knn),4)\n",
    "print(\"Accuracy og Model: \",accuracy_knn)\n",
    "print(\"-------------------------------------------\")\n",
    "print(\"Classification report: \\n\",classification_report(y_test,y_pred_knn))\n",
    "print(\"-------------------------------------------\")\n",
    "print(\"confusion matrix: \\n\",confusion_matrix(y_test,y_pred_knn))"
   ]
  },
  {
   "cell_type": "code",
   "execution_count": 19,
   "id": "6aca28b9",
   "metadata": {},
   "outputs": [],
   "source": [
    "# Hyperparameter tuning for knn"
   ]
  },
  {
   "cell_type": "code",
   "execution_count": 20,
   "id": "97e0e322",
   "metadata": {},
   "outputs": [],
   "source": [
    "trainac = []\n",
    "testac = []\n",
    "\n",
    "for i in range(1,25):\n",
    "    knn = KNeighborsClassifier(n_neighbors=i)\n",
    "    knn.fit(x_train,y_train)\n",
    "    trainac.append(knn.score(x_train,y_train))\n",
    "    testac.append(knn.score(x_test,y_test))"
   ]
  },
  {
   "cell_type": "code",
   "execution_count": 21,
   "id": "978b8866",
   "metadata": {},
   "outputs": [],
   "source": [
    "import matplotlib.pyplot as plt"
   ]
  },
  {
   "cell_type": "code",
   "execution_count": 22,
   "id": "added309",
   "metadata": {},
   "outputs": [
    {
     "data": {
      "text/plain": [
       "<matplotlib.legend.Legend at 0x1fe36d6d810>"
      ]
     },
     "execution_count": 22,
     "metadata": {},
     "output_type": "execute_result"
    },
    {
     "data": {
      "image/png": "[encoded data removed]",
      "text/plain": [
       "<Figure size 640x480 with 1 Axes>"
      ]
     },
     "metadata": {},
     "output_type": "display_data"
    }
   ],
   "source": [
    "plt.plot(range(1,25), trainac,linestyle = '-.', color = 'blue',label = 'Training Accuracy')\n",
    "plt.plot(range(1,25),testac, linestyle = '--', color = 'green', label = 'Testing Accuracy')\n",
    "plt.xlabel('Number of K')\n",
    "plt.ylabel('Accuracy')\n",
    "#plt.vlines(x=5,linestyles=':',colors='black',ymin=0.70,ymax=0.90)\n",
    "plt.legend()"
   ]
  },
  {
   "cell_type": "code",
   "execution_count": 23,
   "id": "735d2e4f",
   "metadata": {},
   "outputs": [
    {
     "name": "stdout",
     "output_type": "stream",
     "text": [
      "Accuracy og Model:  1.0\n",
      "-------------------------------------------\n",
      "Classification report: \n",
      "               precision    recall  f1-score   support\n",
      "\n",
      "           0       1.00      1.00      1.00         7\n",
      "           1       1.00      1.00      1.00         7\n",
      "           2       1.00      1.00      1.00         4\n",
      "           3       1.00      1.00      1.00         6\n",
      "\n",
      "    accuracy                           1.00        24\n",
      "   macro avg       1.00      1.00      1.00        24\n",
      "weighted avg       1.00      1.00      1.00        24\n",
      "\n",
      "-------------------------------------------\n",
      "confusion matrix: \n",
      " [[7 0 0 0]\n",
      " [0 7 0 0]\n",
      " [0 0 4 0]\n",
      " [0 0 0 6]]\n"
     ]
    }
   ],
   "source": [
    "knn = KNeighborsClassifier(n_neighbors=3)\n",
    "knn.fit(x_train,y_train)\n",
    "y_pred_knn = knn.predict(x_test)\n",
    "accuracy_knn =round(accuracy_score(y_test,y_pred_knn),4)\n",
    "print(\"Accuracy og Model: \",accuracy_knn)\n",
    "print(\"-------------------------------------------\")\n",
    "print(\"Classification report: \\n\",classification_report(y_test,y_pred_knn))\n",
    "print(\"-------------------------------------------\")\n",
    "print(\"confusion matrix: \\n\",confusion_matrix(y_test,y_pred_knn))"
   ]
  },
  {
   "cell_type": "code",
   "execution_count": 24,
   "id": "b2573173",
   "metadata": {},
   "outputs": [],
   "source": [
    "precision_knn = round(precision_score(y_test,y_pred_knn,average = 'macro'),4)\n",
    "recall_knn = round(recall_score(y_test,y_pred_knn, average = 'macro'),4)\n",
    "f1_knn = round(f1_score(y_test,y_pred_knn, average = 'macro'),4)"
   ]
  },
  {
   "cell_type": "markdown",
   "id": "13e4a697",
   "metadata": {},
   "source": [
    "# 3. Svm"
   ]
  },
  {
   "cell_type": "code",
   "execution_count": 25,
   "id": "bea63831",
   "metadata": {},
   "outputs": [
    {
     "name": "stdout",
     "output_type": "stream",
     "text": [
      "Accuracy of Model:  0.9583\n",
      "-------------------------------------------\n",
      "Classification report: \n",
      "               precision    recall  f1-score   support\n",
      "\n",
      "           0       1.00      0.86      0.92         7\n",
      "           1       0.88      1.00      0.93         7\n",
      "           2       1.00      1.00      1.00         4\n",
      "           3       1.00      1.00      1.00         6\n",
      "\n",
      "    accuracy                           0.96        24\n",
      "   macro avg       0.97      0.96      0.96        24\n",
      "weighted avg       0.96      0.96      0.96        24\n",
      "\n",
      "-------------------------------------------\n",
      "confusion matrix: \n",
      " [[6 1 0 0]\n",
      " [0 7 0 0]\n",
      " [0 0 4 0]\n",
      " [0 0 0 6]]\n"
     ]
    }
   ],
   "source": [
    "svm = SVC()\n",
    "svm.fit(x_train,y_train)\n",
    "y_pred_svm = svm.predict(x_test)\n",
    "accuracy_svm =round(accuracy_score(y_test,y_pred_svm),4)\n",
    "print(\"Accuracy of Model: \",accuracy_svm)\n",
    "print(\"-------------------------------------------\")\n",
    "print(\"Classification report: \\n\",classification_report(y_test,y_pred_svm))\n",
    "print(\"-------------------------------------------\")\n",
    "print(\"confusion matrix: \\n\",confusion_matrix(y_test,y_pred_svm))"
   ]
  },
  {
   "cell_type": "code",
   "execution_count": 26,
   "id": "cb4564b5",
   "metadata": {},
   "outputs": [],
   "source": [
    "# Hyperparameter tuning for Svm"
   ]
  },
  {
   "cell_type": "code",
   "execution_count": 27,
   "id": "aea8dba7",
   "metadata": {},
   "outputs": [],
   "source": [
    "params = {\n",
    "    'kernel' : ['poly','rbf','linear','sigmoid'],\n",
    "    'C' : [0.1,0.001,0.0001,1,10],\n",
    "    'gamma' : [0.1,0.001,1,10]\n",
    "}"
   ]
  },
  {
   "cell_type": "code",
   "execution_count": 28,
   "id": "759fb2a1",
   "metadata": {},
   "outputs": [],
   "source": [
    "grid = GridSearchCV(SVC(), param_grid=params, verbose=1)"
   ]
  },
  {
   "cell_type": "code",
   "execution_count": 29,
   "id": "0aa3afad",
   "metadata": {},
   "outputs": [
    {
     "name": "stdout",
     "output_type": "stream",
     "text": [
      "Fitting 5 folds for each of 80 candidates, totalling 400 fits\n"
     ]
    },
    {
     "data": {
      "text/html": [
       "<style>#sk-container-id-1 {color: black;background-color: white;}#sk-container-id-1 pre{padding: 0;}#sk-container-id-1 div.sk-toggleable {background-color: white;}#sk-container-id-1 label.sk-toggleable__label {cursor: pointer;display: block;width: 100%;margin-bottom: 0;padding: 0.3em;box-sizing: border-box;text-align: center;}#sk-container-id-1 label.sk-toggleable__label-arrow:before {content: \"▸\";float: left;margin-right: 0.25em;color: #696969;}#sk-container-id-1 label.sk-toggleable__label-arrow:hover:before {color: black;}#sk-container-id-1 div.sk-estimator:hover label.sk-toggleable__label-arrow:before {color: black;}#sk-container-id-1 div.sk-toggleable__content {max-height: 0;max-width: 0;overflow: hidden;text-align: left;background-color: #f0f8ff;}#sk-container-id-1 div.sk-toggleable__content pre {margin: 0.2em;color: black;border-radius: 0.25em;background-color: #f0f8ff;}#sk-container-id-1 input.sk-toggleable__control:checked~div.sk-toggleable__content {max-height: 200px;max-width: 100%;overflow: auto;}#sk-container-id-1 input.sk-toggleable__control:checked~label.sk-toggleable__label-arrow:before {content: \"▾\";}#sk-container-id-1 div.sk-estimator input.sk-toggleable__control:checked~label.sk-toggleable__label {background-color: #d4ebff;}#sk-container-id-1 div.sk-label input.sk-toggleable__control:checked~label.sk-toggleable__label {background-color: #d4ebff;}#sk-container-id-1 input.sk-hidden--visually {border: 0;clip: rect(1px 1px 1px 1px);clip: rect(1px, 1px, 1px, 1px);height: 1px;margin: -1px;overflow: hidden;padding: 0;position: absolute;width: 1px;}#sk-container-id-1 div.sk-estimator {font-family: monospace;background-color: #f0f8ff;border: 1px dotted black;border-radius: 0.25em;box-sizing: border-box;margin-bottom: 0.5em;}#sk-container-id-1 div.sk-estimator:hover {background-color: #d4ebff;}#sk-container-id-1 div.sk-parallel-item::after {content: \"\";width: 100%;border-bottom: 1px solid gray;flex-grow: 1;}#sk-container-id-1 div.sk-label:hover label.sk-toggleable__label {background-color: #d4ebff;}#sk-container-id-1 div.sk-serial::before {content: \"\";position: absolute;border-left: 1px solid gray;box-sizing: border-box;top: 0;bottom: 0;left: 50%;z-index: 0;}#sk-container-id-1 div.sk-serial {display: flex;flex-direction: column;align-items: center;background-color: white;padding-right: 0.2em;padding-left: 0.2em;position: relative;}#sk-container-id-1 div.sk-item {position: relative;z-index: 1;}#sk-container-id-1 div.sk-parallel {display: flex;align-items: stretch;justify-content: center;background-color: white;position: relative;}#sk-container-id-1 div.sk-item::before, #sk-container-id-1 div.sk-parallel-item::before {content: \"\";position: absolute;border-left: 1px solid gray;box-sizing: border-box;top: 0;bottom: 0;left: 50%;z-index: -1;}#sk-container-id-1 div.sk-parallel-item {display: flex;flex-direction: column;z-index: 1;position: relative;background-color: white;}#sk-container-id-1 div.sk-parallel-item:first-child::after {align-self: flex-end;width: 50%;}#sk-container-id-1 div.sk-parallel-item:last-child::after {align-self: flex-start;width: 50%;}#sk-container-id-1 div.sk-parallel-item:only-child::after {width: 0;}#sk-container-id-1 div.sk-dashed-wrapped {border: 1px dashed gray;margin: 0 0.4em 0.5em 0.4em;box-sizing: border-box;padding-bottom: 0.4em;background-color: white;}#sk-container-id-1 div.sk-label label {font-family: monospace;font-weight: bold;display: inline-block;line-height: 1.2em;}#sk-container-id-1 div.sk-label-container {text-align: center;}#sk-container-id-1 div.sk-container {/* jupyter's `normalize.less` sets `[hidden] { display: none; }` but bootstrap.min.css set `[hidden] { display: none !important; }` so we also need the `!important` here to be able to override the default hidden behavior on the sphinx rendered scikit-learn.org. See: https://github.com/scikit-learn/scikit-learn/issues/21755 */display: inline-block !important;position: relative;}#sk-container-id-1 div.sk-text-repr-fallback {display: none;}</style><div id=\"sk-container-id-1\" class=\"sk-top-container\"><div class=\"sk-text-repr-fallback\"><pre>GridSearchCV(estimator=SVC(),\n",
       "             param_grid={&#x27;C&#x27;: [0.1, 0.001, 0.0001, 1, 10],\n",
       "                         &#x27;gamma&#x27;: [0.1, 0.001, 1, 10],\n",
       "                         &#x27;kernel&#x27;: [&#x27;poly&#x27;, &#x27;rbf&#x27;, &#x27;linear&#x27;, &#x27;sigmoid&#x27;]},\n",
       "             verbose=1)</pre><b>In a Jupyter environment, please rerun this cell to show the HTML representation or trust the notebook. <br />On GitHub, the HTML representation is unable to render, please try loading this page with nbviewer.org.</b></div><div class=\"sk-container\" hidden><div class=\"sk-item sk-dashed-wrapped\"><div class=\"sk-label-container\"><div class=\"sk-label sk-toggleable\"><input class=\"sk-toggleable__control sk-hidden--visually\" id=\"sk-estimator-id-1\" type=\"checkbox\" ><label for=\"sk-estimator-id-1\" class=\"sk-toggleable__label sk-toggleable__label-arrow\">GridSearchCV</label><div class=\"sk-toggleable__content\"><pre>GridSearchCV(estimator=SVC(),\n",
       "             param_grid={&#x27;C&#x27;: [0.1, 0.001, 0.0001, 1, 10],\n",
       "                         &#x27;gamma&#x27;: [0.1, 0.001, 1, 10],\n",
       "                         &#x27;kernel&#x27;: [&#x27;poly&#x27;, &#x27;rbf&#x27;, &#x27;linear&#x27;, &#x27;sigmoid&#x27;]},\n",
       "             verbose=1)</pre></div></div></div><div class=\"sk-parallel\"><div class=\"sk-parallel-item\"><div class=\"sk-item\"><div class=\"sk-label-container\"><div class=\"sk-label sk-toggleable\"><input class=\"sk-toggleable__control sk-hidden--visually\" id=\"sk-estimator-id-2\" type=\"checkbox\" ><label for=\"sk-estimator-id-2\" class=\"sk-toggleable__label sk-toggleable__label-arrow\">estimator: SVC</label><div class=\"sk-toggleable__content\"><pre>SVC()</pre></div></div></div><div class=\"sk-serial\"><div class=\"sk-item\"><div class=\"sk-estimator sk-toggleable\"><input class=\"sk-toggleable__control sk-hidden--visually\" id=\"sk-estimator-id-3\" type=\"checkbox\" ><label for=\"sk-estimator-id-3\" class=\"sk-toggleable__label sk-toggleable__label-arrow\">SVC</label><div class=\"sk-toggleable__content\"><pre>SVC()</pre></div></div></div></div></div></div></div></div></div></div>"
      ],
      "text/plain": [
       "GridSearchCV(estimator=SVC(),\n",
       "             param_grid={'C': [0.1, 0.001, 0.0001, 1, 10],\n",
       "                         'gamma': [0.1, 0.001, 1, 10],\n",
       "                         'kernel': ['poly', 'rbf', 'linear', 'sigmoid']},\n",
       "             verbose=1)"
      ]
     },
     "execution_count": 29,
     "metadata": {},
     "output_type": "execute_result"
    }
   ],
   "source": [
    "grid.fit(x_train,y_train)"
   ]
  },
  {
   "cell_type": "code",
   "execution_count": 30,
   "id": "a093cf06",
   "metadata": {},
   "outputs": [
    {
     "data": {
      "text/plain": [
       "{'C': 1, 'gamma': 10, 'kernel': 'sigmoid'}"
      ]
     },
     "execution_count": 30,
     "metadata": {},
     "output_type": "execute_result"
    }
   ],
   "source": [
    "grid.best_params_"
   ]
  },
  {
   "cell_type": "code",
   "execution_count": 31,
   "id": "5635b3cb",
   "metadata": {},
   "outputs": [
    {
     "name": "stdout",
     "output_type": "stream",
     "text": [
      "Accuracy of Model:  0.9583\n",
      "-------------------------------------------\n",
      "Classification report: \n",
      "               precision    recall  f1-score   support\n",
      "\n",
      "           0       0.88      1.00      0.93         7\n",
      "           1       1.00      1.00      1.00         7\n",
      "           2       1.00      1.00      1.00         4\n",
      "           3       1.00      0.83      0.91         6\n",
      "\n",
      "    accuracy                           0.96        24\n",
      "   macro avg       0.97      0.96      0.96        24\n",
      "weighted avg       0.96      0.96      0.96        24\n",
      "\n",
      "-------------------------------------------\n",
      "confusion matrix: \n",
      " [[7 0 0 0]\n",
      " [0 7 0 0]\n",
      " [0 0 4 0]\n",
      " [1 0 0 5]]\n"
     ]
    }
   ],
   "source": [
    "svm = SVC(C = 1,gamma=10, kernel= \"sigmoid\")\n",
    "svm.fit(x_train,y_train)\n",
    "y_pred_svm = svm.predict(x_test)\n",
    "accuracy_svm =round(accuracy_score(y_test,y_pred_svm),4)\n",
    "print(\"Accuracy of Model: \",accuracy_svm)\n",
    "print(\"-------------------------------------------\")\n",
    "print(\"Classification report: \\n\",classification_report(y_test,y_pred_svm))\n",
    "print(\"-------------------------------------------\")\n",
    "print(\"confusion matrix: \\n\",confusion_matrix(y_test,y_pred_svm))"
   ]
  },
  {
   "cell_type": "code",
   "execution_count": 32,
   "id": "00fda442",
   "metadata": {},
   "outputs": [],
   "source": [
    "precision_svm = round(precision_score(y_test,y_pred_svm,average = 'macro'),4)\n",
    "recall_svm = round(recall_score(y_test,y_pred_svm, average = 'macro'),4)\n",
    "f1_svm = round(f1_score(y_test,y_pred_svm, average = 'macro'),4)"
   ]
  },
  {
   "cell_type": "markdown",
   "id": "2293939e",
   "metadata": {},
   "source": [
    "# 4.Random Forest Classifier"
   ]
  },
  {
   "cell_type": "code",
   "execution_count": 33,
   "id": "e9e9490e",
   "metadata": {},
   "outputs": [
    {
     "name": "stdout",
     "output_type": "stream",
     "text": [
      "Accuracy of Model:  1.0\n",
      "-------------------------------------------\n",
      "Classification report: \n",
      "               precision    recall  f1-score   support\n",
      "\n",
      "           0       1.00      1.00      1.00         7\n",
      "           1       1.00      1.00      1.00         7\n",
      "           2       1.00      1.00      1.00         4\n",
      "           3       1.00      1.00      1.00         6\n",
      "\n",
      "    accuracy                           1.00        24\n",
      "   macro avg       1.00      1.00      1.00        24\n",
      "weighted avg       1.00      1.00      1.00        24\n",
      "\n",
      "-------------------------------------------\n",
      "confusion matrix: \n",
      " [[7 0 0 0]\n",
      " [0 7 0 0]\n",
      " [0 0 4 0]\n",
      " [0 0 0 6]]\n"
     ]
    }
   ],
   "source": [
    "rf = RandomForestClassifier()\n",
    "rf.fit(x_train,y_train)\n",
    "y_pred_rf = rf.predict(x_test)\n",
    "accuracy_rf =round(accuracy_score(y_test,y_pred_rf),4)\n",
    "print(\"Accuracy of Model: \",accuracy_rf)\n",
    "print(\"-------------------------------------------\")\n",
    "print(\"Classification report: \\n\",classification_report(y_test,y_pred_rf))\n",
    "print(\"-------------------------------------------\")\n",
    "print(\"confusion matrix: \\n\",confusion_matrix(y_test,y_pred_rf))"
   ]
  },
  {
   "cell_type": "code",
   "execution_count": 34,
   "id": "924c35d3",
   "metadata": {},
   "outputs": [],
   "source": [
    "precision_rf = round(precision_score(y_test,y_pred_rf,average = 'macro'),4)\n",
    "recall_rf = round(recall_score(y_test,y_pred_rf, average = 'macro'),4)\n",
    "f1_rf = round(f1_score(y_test,y_pred_rf, average = 'macro'),4)"
   ]
  },
  {
   "cell_type": "markdown",
   "id": "eeed57e4",
   "metadata": {},
   "source": [
    "# 5. Naive-Bayes Classifier"
   ]
  },
  {
   "cell_type": "code",
   "execution_count": 35,
   "id": "21c12dd9",
   "metadata": {},
   "outputs": [
    {
     "name": "stdout",
     "output_type": "stream",
     "text": [
      "Accuracy of Model:  0.9583\n",
      "-------------------------------------------\n",
      "Classification report: \n",
      "               precision    recall  f1-score   support\n",
      "\n",
      "           0       1.00      0.86      0.92         7\n",
      "           1       1.00      1.00      1.00         7\n",
      "           2       1.00      1.00      1.00         4\n",
      "           3       0.86      1.00      0.92         6\n",
      "\n",
      "    accuracy                           0.96        24\n",
      "   macro avg       0.96      0.96      0.96        24\n",
      "weighted avg       0.96      0.96      0.96        24\n",
      "\n",
      "-------------------------------------------\n",
      "confusion matrix: \n",
      " [[6 0 0 1]\n",
      " [0 7 0 0]\n",
      " [0 0 4 0]\n",
      " [0 0 0 6]]\n"
     ]
    }
   ],
   "source": [
    "nb=MultinomialNB()\n",
    "nb.fit(x_train,y_train)\n",
    "y_pred_nb = nb.predict(x_test)\n",
    "accuracy_nb =round(accuracy_score(y_test,y_pred_nb),4)\n",
    "print(\"Accuracy of Model: \",accuracy_nb)\n",
    "print(\"-------------------------------------------\")\n",
    "print(\"Classification report: \\n\",classification_report(y_test,y_pred_nb))\n",
    "print(\"-------------------------------------------\")\n",
    "print(\"confusion matrix: \\n\",confusion_matrix(y_test,y_pred_nb))"
   ]
  },
  {
   "cell_type": "code",
   "execution_count": 36,
   "id": "056cadba",
   "metadata": {},
   "outputs": [],
   "source": [
    "precision_nb = round(precision_score(y_test,y_pred_nb,average = 'macro'),4)\n",
    "recall_nb = round(recall_score(y_test,y_pred_nb, average = 'macro'),4)\n",
    "f1_nb = round(f1_score(y_test,y_pred_nb, average = 'macro'),4)"
   ]
  },
  {
   "cell_type": "markdown",
   "id": "863c9d93",
   "metadata": {},
   "source": [
    "# 6.Decision Tree Classifier"
   ]
  },
  {
   "cell_type": "code",
   "execution_count": 37,
   "id": "2f92bc55",
   "metadata": {},
   "outputs": [
    {
     "name": "stdout",
     "output_type": "stream",
     "text": [
      "Accuracy of Model:  1.0\n",
      "-------------------------------------------\n",
      "Classification report: \n",
      "               precision    recall  f1-score   support\n",
      "\n",
      "           0       1.00      1.00      1.00         7\n",
      "           1       1.00      1.00      1.00         7\n",
      "           2       1.00      1.00      1.00         4\n",
      "           3       1.00      1.00      1.00         6\n",
      "\n",
      "    accuracy                           1.00        24\n",
      "   macro avg       1.00      1.00      1.00        24\n",
      "weighted avg       1.00      1.00      1.00        24\n",
      "\n",
      "-------------------------------------------\n",
      "confusion matrix: \n",
      " [[7 0 0 0]\n",
      " [0 7 0 0]\n",
      " [0 0 4 0]\n",
      " [0 0 0 6]]\n"
     ]
    }
   ],
   "source": [
    "dt = DecisionTreeClassifier()\n",
    "dt.fit(x_train,y_train)\n",
    "y_pred_dt = dt.predict(x_test)\n",
    "accuracy_dt =round(accuracy_score(y_test,y_pred_dt),4)\n",
    "print(\"Accuracy of Model: \",accuracy_dt)\n",
    "print(\"-------------------------------------------\")\n",
    "print(\"Classification report: \\n\",classification_report(y_test,y_pred_dt))\n",
    "print(\"-------------------------------------------\")\n",
    "print(\"confusion matrix: \\n\",confusion_matrix(y_test,y_pred_dt))"
   ]
  },
  {
   "cell_type": "code",
   "execution_count": 38,
   "id": "b4638c20",
   "metadata": {},
   "outputs": [],
   "source": [
    "precision_dt = round(precision_score(y_test,y_pred_dt,average = 'macro'),4)\n",
    "recall_dt = round(recall_score(y_test,y_pred_dt, average = 'macro'),4)\n",
    "f1_dt = round(f1_score(y_test,y_pred_dt, average = 'macro'),4)"
   ]
  },
  {
   "cell_type": "markdown",
   "id": "4b269179",
   "metadata": {},
   "source": [
    "# 7.AdaBoost"
   ]
  },
  {
   "cell_type": "code",
   "execution_count": 39,
   "id": "0d991aed",
   "metadata": {},
   "outputs": [
    {
     "name": "stdout",
     "output_type": "stream",
     "text": [
      "Accuracy of Model:  0.7917\n",
      "-------------------------------------------\n",
      "Classification report: \n",
      "               precision    recall  f1-score   support\n",
      "\n",
      "           0       0.88      1.00      0.93         7\n",
      "           1       0.64      1.00      0.78         7\n",
      "           2       0.00      0.00      0.00         4\n",
      "           3       1.00      0.83      0.91         6\n",
      "\n",
      "    accuracy                           0.79        24\n",
      "   macro avg       0.63      0.71      0.66        24\n",
      "weighted avg       0.69      0.79      0.73        24\n",
      "\n",
      "-------------------------------------------\n",
      "confusion matrix: \n",
      " [[7 0 0 0]\n",
      " [0 7 0 0]\n",
      " [0 4 0 0]\n",
      " [1 0 0 5]]\n"
     ]
    },
    {
     "name": "stderr",
     "output_type": "stream",
     "text": [
      "C:\\Users\\abc\\anaconda3\\lib\\site-packages\\sklearn\\metrics\\_classification.py:1344: UndefinedMetricWarning: Precision and F-score are ill-defined and being set to 0.0 in labels with no predicted samples. Use `zero_division` parameter to control this behavior.\n",
      "  _warn_prf(average, modifier, msg_start, len(result))\n",
      "C:\\Users\\abc\\anaconda3\\lib\\site-packages\\sklearn\\metrics\\_classification.py:1344: UndefinedMetricWarning: Precision and F-score are ill-defined and being set to 0.0 in labels with no predicted samples. Use `zero_division` parameter to control this behavior.\n",
      "  _warn_prf(average, modifier, msg_start, len(result))\n",
      "C:\\Users\\abc\\anaconda3\\lib\\site-packages\\sklearn\\metrics\\_classification.py:1344: UndefinedMetricWarning: Precision and F-score are ill-defined and being set to 0.0 in labels with no predicted samples. Use `zero_division` parameter to control this behavior.\n",
      "  _warn_prf(average, modifier, msg_start, len(result))\n"
     ]
    }
   ],
   "source": [
    "ab = AdaBoostClassifier()\n",
    "ab.fit(x_train,y_train)\n",
    "y_pred_ab = ab.predict(x_test)\n",
    "accuracy_ab =round(accuracy_score(y_test,y_pred_ab),4)\n",
    "print(\"Accuracy of Model: \",accuracy_ab)\n",
    "print(\"-------------------------------------------\")\n",
    "print(\"Classification report: \\n\",classification_report(y_test,y_pred_ab))\n",
    "print(\"-------------------------------------------\")\n",
    "print(\"confusion matrix: \\n\",confusion_matrix(y_test,y_pred_ab))"
   ]
  },
  {
   "cell_type": "code",
   "execution_count": 40,
   "id": "003e612e",
   "metadata": {},
   "outputs": [
    {
     "name": "stderr",
     "output_type": "stream",
     "text": [
      "C:\\Users\\abc\\anaconda3\\lib\\site-packages\\sklearn\\metrics\\_classification.py:1344: UndefinedMetricWarning: Precision is ill-defined and being set to 0.0 in labels with no predicted samples. Use `zero_division` parameter to control this behavior.\n",
      "  _warn_prf(average, modifier, msg_start, len(result))\n"
     ]
    }
   ],
   "source": [
    "precision_ab = round(precision_score(y_test,y_pred_ab,average = 'macro'),4)\n",
    "recall_ab = round(recall_score(y_test,y_pred_ab, average = 'macro'),4)\n",
    "f1_ab = round(f1_score(y_test,y_pred_ab, average = 'macro'),4)"
   ]
  },
  {
   "cell_type": "markdown",
   "id": "bf6febd1",
   "metadata": {},
   "source": [
    "# 8.GradientBoosting Classifier"
   ]
  },
  {
   "cell_type": "code",
   "execution_count": 41,
   "id": "24535743",
   "metadata": {},
   "outputs": [
    {
     "name": "stdout",
     "output_type": "stream",
     "text": [
      "Accuracy of Model:  0.875\n",
      "-------------------------------------------\n",
      "Classification report: \n",
      "               precision    recall  f1-score   support\n",
      "\n",
      "           0       1.00      1.00      1.00         7\n",
      "           1       0.75      0.86      0.80         7\n",
      "           2       0.67      0.50      0.57         4\n",
      "           3       1.00      1.00      1.00         6\n",
      "\n",
      "    accuracy                           0.88        24\n",
      "   macro avg       0.85      0.84      0.84        24\n",
      "weighted avg       0.87      0.88      0.87        24\n",
      "\n",
      "-------------------------------------------\n",
      "confusion matrix: \n",
      " [[7 0 0 0]\n",
      " [0 6 1 0]\n",
      " [0 2 2 0]\n",
      " [0 0 0 6]]\n"
     ]
    }
   ],
   "source": [
    "gb = GradientBoostingClassifier()\n",
    "gb.fit(x_train,y_train)\n",
    "y_pred_gb = gb.predict(x_test)\n",
    "accuracy_gb =round(accuracy_score(y_test,y_pred_gb),4)\n",
    "print(\"Accuracy of Model: \",accuracy_gb)\n",
    "print(\"-------------------------------------------\")\n",
    "print(\"Classification report: \\n\",classification_report(y_test,y_pred_gb))\n",
    "print(\"-------------------------------------------\")\n",
    "print(\"confusion matrix: \\n\",confusion_matrix(y_test,y_pred_gb))"
   ]
  },
  {
   "cell_type": "code",
   "execution_count": 42,
   "id": "b1d4a279",
   "metadata": {},
   "outputs": [],
   "source": [
    "precision_gb = round(precision_score(y_test,y_pred_gb,average = 'macro'),4)\n",
    "recall_gb = round(recall_score(y_test,y_pred_gb, average = 'macro'),4)\n",
    "f1_gb = round(f1_score(y_test,y_pred_gb, average = 'macro'),4)"
   ]
  },
  {
   "cell_type": "markdown",
   "id": "275eb120",
   "metadata": {},
   "source": [
    "# 9.XGBoost Classifier"
   ]
  },
  {
   "cell_type": "code",
   "execution_count": 43,
   "id": "5a71d77c",
   "metadata": {},
   "outputs": [
    {
     "name": "stdout",
     "output_type": "stream",
     "text": [
      "Accuracy of Model:  0.9167\n",
      "-------------------------------------------\n",
      "Classification report: \n",
      "               precision    recall  f1-score   support\n",
      "\n",
      "           0       0.88      1.00      0.93         7\n",
      "           1       1.00      0.86      0.92         7\n",
      "           2       0.80      1.00      0.89         4\n",
      "           3       1.00      0.83      0.91         6\n",
      "\n",
      "    accuracy                           0.92        24\n",
      "   macro avg       0.92      0.92      0.91        24\n",
      "weighted avg       0.93      0.92      0.92        24\n",
      "\n",
      "-------------------------------------------\n",
      "confusion matrix: \n",
      " [[7 0 0 0]\n",
      " [0 6 1 0]\n",
      " [0 0 4 0]\n",
      " [1 0 0 5]]\n"
     ]
    }
   ],
   "source": [
    "xg = XGBClassifier()\n",
    "xg.fit(x_train,y_train)\n",
    "y_pred_xg = xg.predict(x_test)\n",
    "accuracy_xg =round(accuracy_score(y_test,y_pred_xg),4)\n",
    "print(\"Accuracy of Model: \",accuracy_xg)\n",
    "print(\"-------------------------------------------\")\n",
    "print(\"Classification report: \\n\",classification_report(y_test,y_pred_xg))\n",
    "print(\"-------------------------------------------\")\n",
    "print(\"confusion matrix: \\n\",confusion_matrix(y_test,y_pred_xg))"
   ]
  },
  {
   "cell_type": "code",
   "execution_count": 44,
   "id": "838e57c4",
   "metadata": {},
   "outputs": [],
   "source": [
    "precision_xg = round(precision_score(y_test,y_pred_xg,average = 'macro'),4)\n",
    "recall_xg = round(recall_score(y_test,y_pred_xg, average = 'macro'),4)\n",
    "f1_xg = round(f1_score(y_test,y_pred_xg, average = 'macro'),4)"
   ]
  },
  {
   "cell_type": "code",
   "execution_count": 45,
   "id": "3aa4b8cd",
   "metadata": {},
   "outputs": [],
   "source": [
    "table = {'Classifier' : ['Logistic Regression','SVM Classifier','Random Forest Classifier', 'Naive-Bayes Classifier','Decision Tree Classifier','AdaBoost Classifier', 'Gradient Boosting Classifier', 'k-nearest neighbors',\"XGBoost Classifier\"], \n",
    "         'Accuracy' : [accuracy_lg, accuracy_svm, accuracy_rf, accuracy_nb, accuracy_dt, accuracy_ab, accuracy_gb, accuracy_knn,accuracy_xg],\n",
    "         'Precision Score' : [precision_lg, precision_svm, precision_rf, precision_nb, precision_dt, precision_ab, precision_gb, precision_knn,precision_xg], \n",
    "         'Recall Score' : [recall_lg, recall_svm, recall_rf, recall_nb, recall_dt, recall_ab, recall_gb, recall_knn,recall_xg], \n",
    "         'F1_Score' : [f1_lg, f1_svm, f1_rf, f1_nb, f1_dt, f1_ab, f1_gb, f1_knn,f1_xg]}\n",
    "table = pd.DataFrame(table)"
   ]
  },
  {
   "cell_type": "code",
   "execution_count": 46,
   "id": "b1634f94",
   "metadata": {},
   "outputs": [
    {
     "data": {
      "text/html": [
       "<div>\n",
       "<style scoped>\n",
       "    .dataframe tbody tr th:only-of-type {\n",
       "        vertical-align: middle;\n",
       "    }\n",
       "\n",
       "    .dataframe tbody tr th {\n",
       "        vertical-align: top;\n",
       "    }\n",
       "\n",
       "    .dataframe thead th {\n",
       "        text-align: right;\n",
       "    }\n",
       "</style>\n",
       "<table border=\"1\" class=\"dataframe\">\n",
       "  <thead>\n",
       "    <tr style=\"text-align: right;\">\n",
       "      <th></th>\n",
       "      <th>Classifier</th>\n",
       "      <th>Accuracy</th>\n",
       "      <th>Precision Score</th>\n",
       "      <th>Recall Score</th>\n",
       "      <th>F1_Score</th>\n",
       "    </tr>\n",
       "  </thead>\n",
       "  <tbody>\n",
       "    <tr>\n",
       "      <th>2</th>\n",
       "      <td>Random Forest Classifier</td>\n",
       "      <td>1.0000</td>\n",
       "      <td>1.0000</td>\n",
       "      <td>1.0000</td>\n",
       "      <td>1.0000</td>\n",
       "    </tr>\n",
       "    <tr>\n",
       "      <th>4</th>\n",
       "      <td>Decision Tree Classifier</td>\n",
       "      <td>1.0000</td>\n",
       "      <td>1.0000</td>\n",
       "      <td>1.0000</td>\n",
       "      <td>1.0000</td>\n",
       "    </tr>\n",
       "    <tr>\n",
       "      <th>7</th>\n",
       "      <td>k-nearest neighbors</td>\n",
       "      <td>1.0000</td>\n",
       "      <td>1.0000</td>\n",
       "      <td>1.0000</td>\n",
       "      <td>1.0000</td>\n",
       "    </tr>\n",
       "    <tr>\n",
       "      <th>0</th>\n",
       "      <td>Logistic Regression</td>\n",
       "      <td>0.9583</td>\n",
       "      <td>0.9688</td>\n",
       "      <td>0.9643</td>\n",
       "      <td>0.9641</td>\n",
       "    </tr>\n",
       "    <tr>\n",
       "      <th>1</th>\n",
       "      <td>SVM Classifier</td>\n",
       "      <td>0.9583</td>\n",
       "      <td>0.9688</td>\n",
       "      <td>0.9583</td>\n",
       "      <td>0.9606</td>\n",
       "    </tr>\n",
       "    <tr>\n",
       "      <th>3</th>\n",
       "      <td>Naive-Bayes Classifier</td>\n",
       "      <td>0.9583</td>\n",
       "      <td>0.9643</td>\n",
       "      <td>0.9643</td>\n",
       "      <td>0.9615</td>\n",
       "    </tr>\n",
       "    <tr>\n",
       "      <th>8</th>\n",
       "      <td>XGBoost Classifier</td>\n",
       "      <td>0.9167</td>\n",
       "      <td>0.9188</td>\n",
       "      <td>0.9226</td>\n",
       "      <td>0.9136</td>\n",
       "    </tr>\n",
       "    <tr>\n",
       "      <th>6</th>\n",
       "      <td>Gradient Boosting Classifier</td>\n",
       "      <td>0.8750</td>\n",
       "      <td>0.8542</td>\n",
       "      <td>0.8393</td>\n",
       "      <td>0.8429</td>\n",
       "    </tr>\n",
       "    <tr>\n",
       "      <th>5</th>\n",
       "      <td>AdaBoost Classifier</td>\n",
       "      <td>0.7917</td>\n",
       "      <td>0.6278</td>\n",
       "      <td>0.7083</td>\n",
       "      <td>0.6551</td>\n",
       "    </tr>\n",
       "  </tbody>\n",
       "</table>\n",
       "</div>"
      ],
      "text/plain": [
       "                     Classifier  Accuracy  Precision Score  Recall Score  \\\n",
       "2      Random Forest Classifier    1.0000           1.0000        1.0000   \n",
       "4      Decision Tree Classifier    1.0000           1.0000        1.0000   \n",
       "7           k-nearest neighbors    1.0000           1.0000        1.0000   \n",
       "0           Logistic Regression    0.9583           0.9688        0.9643   \n",
       "1                SVM Classifier    0.9583           0.9688        0.9583   \n",
       "3        Naive-Bayes Classifier    0.9583           0.9643        0.9643   \n",
       "8            XGBoost Classifier    0.9167           0.9188        0.9226   \n",
       "6  Gradient Boosting Classifier    0.8750           0.8542        0.8393   \n",
       "5           AdaBoost Classifier    0.7917           0.6278        0.7083   \n",
       "\n",
       "   F1_Score  \n",
       "2    1.0000  \n",
       "4    1.0000  \n",
       "7    1.0000  \n",
       "0    0.9641  \n",
       "1    0.9606  \n",
       "3    0.9615  \n",
       "8    0.9136  \n",
       "6    0.8429  \n",
       "5    0.6551  "
      ]
     },
     "execution_count": 46,
     "metadata": {},
     "output_type": "execute_result"
    }
   ],
   "source": [
    "table.sort_values([\"Accuracy\"],ascending=False)"
   ]
  },
  {
   "cell_type": "code",
   "execution_count": 47,
   "id": "7dbdbff3",
   "metadata": {},
   "outputs": [],
   "source": [
    "import pickle"
   ]
  },
  {
   "cell_type": "code",
   "execution_count": 48,
   "id": "7f81b022",
   "metadata": {},
   "outputs": [],
   "source": [
    "pickle_out = open(\"Resume1.pkl\",mode = 'wb')\n",
    "pickle.dump(rf,pickle_out)\n",
    "pickle_out.close()"
   ]
  },
  {
   "cell_type": "code",
   "execution_count": 94,
   "id": "633429bb",
   "metadata": {},
   "outputs": [
    {
     "data": {
      "text/html": [
       "<a href='Resume.pkl' target='_blank'>Resume.pkl</a><br>"
      ],
      "text/plain": [
       "C:\\Users\\abc\\Desktop\\Project2 Resume Classification\\Resume.pkl"
      ]
     },
     "execution_count": 94,
     "metadata": {},
     "output_type": "execute_result"
    }
   ],
   "source": [
    "from IPython import display\n",
    "display.FileLink('Resume.pkl')"
   ]
  },
  {
   "cell_type": "code",
   "execution_count": 51,
   "id": "e493df57",
   "metadata": {},
   "outputs": [],
   "source": [
    "pickle_out = open(\"Tdfi1.pkl\",mode = 'wb')\n",
    "pickle.dump(word_vectorizer,pickle_out)\n",
    "pickle_out.close()"
   ]
  },
  {
   "cell_type": "code",
   "execution_count": null,
   "id": "f8c7ab65",
   "metadata": {},
   "outputs": [],
   "source": []
  }
 ],
 "metadata": {
  "kernelspec": {
   "display_name": "Python 3 (ipykernel)",
   "language": "python",
   "name": "python3"
  },
  "language_info": {
   "codemirror_mode": {
    "name": "ipython",
    "version": 3
   },
   "file_extension": ".py",
   "mimetype": "text/x-python",
   "name": "python",
   "nbconvert_exporter": "python",
   "pygments_lexer": "ipython3",
   "version": "3.10.9"
  }
 },
 "nbformat": 4,
 "nbformat_minor": 5
}
